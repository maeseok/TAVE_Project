{
 "cells": [
  {
   "cell_type": "markdown",
   "id": "60ffdbdf",
   "metadata": {},
   "source": [
    "# 웹툰 캐릭터 대입"
   ]
  },
  {
   "cell_type": "code",
   "execution_count": 104,
   "id": "b49e87fe",
   "metadata": {},
   "outputs": [],
   "source": [
    "# 텍스트 파일 열기\n",
    "with open(\"C:/Users/kmk00/Downloads/webtoon_final.txt\", 'r', encoding='cp949') as file:\n",
    "    # 파일의 내용을 읽어서 문자열로 가져옴\n",
    "    data_string = file.read().strip()\n",
    "\n",
    "# 문자열을 리스트로 변환\n",
    "webtoon_data_list = ast.literal_eval(data_string)"
   ]
  },
  {
   "cell_type": "code",
   "execution_count": 129,
   "id": "0158e768",
   "metadata": {},
   "outputs": [],
   "source": [
    "num = []\n",
    "web_X, web_y = [], []\n",
    "for key, landmark in webtoon_data_list[0][1].items() :\n",
    "    for tup in landmark:\n",
    "        num.extend(tup)\n",
    "web_X.append(num)"
   ]
  },
  {
   "cell_type": "code",
   "execution_count": 138,
   "id": "264a2190",
   "metadata": {},
   "outputs": [],
   "source": [
    "y_web_pred = clf.predict(web_X)"
   ]
  },
  {
   "cell_type": "code",
   "execution_count": 140,
   "id": "9e620fe0",
   "metadata": {},
   "outputs": [
    {
     "name": "stdout",
     "output_type": "stream",
     "text": [
      "['임수정_수정본']\n",
      "['한소희_수정본']\n",
      "['최수영_수정본']\n"
     ]
    }
   ],
   "source": [
    "# 각 클래스에 대한 확신 정도를 출력하고, 가장 확신이 높은 상위 3개의 클래스를 도출합니다.\n",
    "confidence_scores = clf.decision_function(web_X)\n",
    "top_3_classes = np.argsort(confidence_scores, axis=1)[0][-3:]\n",
    "for i in top_3_classes :\n",
    "    print(encoder.inverse_transform([i]))"
   ]
  }
 ],
 "metadata": {
  "kernelspec": {
   "display_name": "Python 3 (ipykernel)",
   "language": "python",
   "name": "python3"
  },
  "language_info": {
   "codemirror_mode": {
    "name": "ipython",
    "version": 3
   },
   "file_extension": ".py",
   "mimetype": "text/x-python",
   "name": "python",
   "nbconvert_exporter": "python",
   "pygments_lexer": "ipython3",
   "version": "3.10.9"
  }
 },
 "nbformat": 4,
 "nbformat_minor": 5
}
