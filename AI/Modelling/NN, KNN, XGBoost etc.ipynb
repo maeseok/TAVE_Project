{
 "cells": [
  {
   "cell_type": "markdown",
   "id": "8cc25106",
   "metadata": {},
   "source": [
    "# 전처리"
   ]
  },
  {
   "cell_type": "code",
   "execution_count": 1,
   "id": "a35313f4",
   "metadata": {},
   "outputs": [],
   "source": [
    "import numpy as np\n",
    "import ast\n",
    "import pandas as pd"
   ]
  },
  {
   "cell_type": "code",
   "execution_count": null,
   "id": "ddb4ab13",
   "metadata": {},
   "outputs": [],
   "source": [
    "# 텍스트 파일 열기\n",
    "with open(\"C:/Users/kmk00/Downloads\\output_file.txt\", 'r', encoding='cp949') as file:\n",
    "    # 파일의 내용을 읽어서 문자열로 가져옴\n",
    "    data_string = file.read().strip()\n",
    "\n",
    "# 문자열을 리스트로 변환\n",
    "data_list = ast.literal_eval(data_string)"
   ]
  },
  {
   "cell_type": "code",
   "execution_count": null,
   "id": "8e430ebc",
   "metadata": {},
   "outputs": [],
   "source": [
    "start_time = time.time()  # 코드 실행 전 시간\n",
    "print(\"start time :\", start_time)\n",
    "\n",
    "# 벡터값 추출\n",
    "X = []\n",
    "y = []\n",
    "for actor in data_list : # 모든 배우 순회\n",
    "    for i in range(len(actor)) : # 배우 내 이미지 수 만큼\n",
    "        num = []\n",
    "        try :\n",
    "            for key, landmark in actor[i][0].items(): # 벡터값만 추출\n",
    "                for tup in landmark:\n",
    "                    num.extend(tup)\n",
    "            X.append(num)\n",
    "            y.append(actor[0])\n",
    "        except :\n",
    "            continue\n",
    "  "
   ]
  },
  {
   "cell_type": "code",
   "execution_count": 82,
   "id": "2247b9d4",
   "metadata": {},
   "outputs": [],
   "source": [
    "# 라벨 인코딩\n",
    "from sklearn.preprocessing import LabelEncoder\n",
    "encoder = LabelEncoder()\n",
    "y = encoder.fit_transform(y)\n",
    "\n",
    "X = np.array(fixed_X)\n",
    "y = np.array(y)"
   ]
  },
  {
   "cell_type": "code",
   "execution_count": null,
   "id": "c6a5ef6d",
   "metadata": {},
   "outputs": [],
   "source": [
    "start_time = time.time()  # 코드 실행 전 시간\n",
    "print(\"start time :\", start_time)\n",
    "end_time = time.time()  # 코드 실행 후 시간\n",
    "print(\"end time :\", end_time)"
   ]
  },
  {
   "cell_type": "markdown",
   "id": "ff8949ea",
   "metadata": {},
   "source": [
    "# 알고리즘"
   ]
  },
  {
   "cell_type": "markdown",
   "id": "11c79f41",
   "metadata": {},
   "source": [
    "### SVM\n",
    "#### linear"
   ]
  },
  {
   "cell_type": "code",
   "execution_count": 16,
   "id": "a3ab5638",
   "metadata": {},
   "outputs": [
    {
     "name": "stdout",
     "output_type": "stream",
     "text": [
      "Accuracy: 0.6146388754241396\n"
     ]
    }
   ],
   "source": [
    "from sklearn import svm\n",
    "from sklearn.model_selection import train_test_split\n",
    "from sklearn.metrics import accuracy_score\n",
    "\n",
    "# 학습 및 테스트 데이터로 분할\n",
    "X_train, X_test, y_train, y_test = train_test_split(X, y, test_size=0.2, random_state=42)\n",
    "\n",
    "# SVM 분류기 초기화\n",
    "clf = svm.SVC(kernel='linear')\n",
    "\n",
    "# 모델 학습\n",
    "clf.fit(X_train, y_train)\n",
    "\n",
    "# 테스트 데이터로 예측\n",
    "y_pred = clf.predict(X_test)\n",
    "\n",
    "# 정확도 출력\n",
    "accuracy = accuracy_score(y_test, y_pred)\n",
    "print(\"Accuracy:\", accuracy)"
   ]
  },
  {
   "cell_type": "markdown",
   "id": "96bf926f",
   "metadata": {},
   "source": [
    "#### rbf"
   ]
  },
  {
   "cell_type": "code",
   "execution_count": null,
   "id": "36789341",
   "metadata": {
    "scrolled": true
   },
   "outputs": [],
   "source": [
    "from sklearn import svm\n",
    "from sklearn.model_selection import train_test_split\n",
    "from sklearn.metrics import accuracy_score\n",
    "\n",
    "# 학습 및 테스트 데이터로 분할\n",
    "X_train, X_test, y_train, y_test = train_test_split(X, y, test_size=0.2, random_state=42)\n",
    "\n",
    "# SVM 분류기 초기화\n",
    "clf = svm.SVC(kernel='rbf')\n",
    "\n",
    "# 모델 학습\n",
    "clf.fit(X_train, y_train)\n",
    "\n",
    "# 테스트 데이터로 예측\n",
    "y_pred = clf.predict(X_test)\n",
    "\n",
    "# 정확도 출력\n",
    "accuracy = accuracy_score(y_test, y_pred)\n",
    "print(\"Accuracy:\", accuracy)"
   ]
  },
  {
   "cell_type": "markdown",
   "id": "cdd5c0f9",
   "metadata": {},
   "source": [
    "#### poly"
   ]
  },
  {
   "cell_type": "code",
   "execution_count": null,
   "id": "dcbc7906",
   "metadata": {},
   "outputs": [],
   "source": [
    "from sklearn import svm\n",
    "from sklearn.model_selection import train_test_split\n",
    "from sklearn.metrics import accuracy_score\n",
    "\n",
    "# 학습 및 테스트 데이터로 분할\n",
    "X_train, X_test, y_train, y_test = train_test_split(X, y, test_size=0.2, random_state=42)\n",
    "\n",
    "# SVM 분류기 초기화\n",
    "clf = svm.SVC(kernel='poly')\n",
    "\n",
    "# 모델 학습\n",
    "clf.fit(X_train, y_train)\n",
    "\n",
    "# 테스트 데이터로 예측\n",
    "y_pred = clf.predict(X_test)\n",
    "\n",
    "# 정확도 출력\n",
    "accuracy = accuracy_score(y_test, y_pred)\n",
    "print(\"Accuracy:\", accuracy)"
   ]
  },
  {
   "cell_type": "markdown",
   "id": "97520261",
   "metadata": {},
   "source": [
    "### Random Forest"
   ]
  },
  {
   "cell_type": "code",
   "execution_count": null,
   "id": "b966f211",
   "metadata": {},
   "outputs": [],
   "source": [
    "from sklearn.ensemble import RandomForestClassifier\n",
    "\n",
    "# 데이터를 훈련 세트와 테스트 세트로 분할\n",
    "X_train, X_test, y_train, y_test = train_test_split(X, y, test_size=0.2, random_state=42)\n",
    "\n",
    "# Random Forest 분류기 생성\n",
    "clf = RandomForestClassifier(n_estimators=100, random_state=42)\n",
    "\n",
    "# 분류기 학습\n",
    "clf.fit(X_train, y_train)\n",
    "\n",
    "# 테스트 세트에 대한 예측\n",
    "y_pred = clf.predict(X_test)\n",
    "\n",
    "# 정확도 출력\n",
    "accuracy = accuracy_score(y_test, y_pred)\n",
    "print(\"Accuracy:\", accuracy)"
   ]
  },
  {
   "cell_type": "markdown",
   "id": "643ad897",
   "metadata": {},
   "source": [
    "### Neural Network"
   ]
  },
  {
   "cell_type": "code",
   "execution_count": 30,
   "id": "f7c19302",
   "metadata": {},
   "outputs": [
    {
     "name": "stdout",
     "output_type": "stream",
     "text": [
      "Epoch 1/50\n",
      "774/774 [==============================] - 6s 5ms/step - loss: 0.0000e+00 - accuracy: 0.0110\n",
      "Epoch 2/50\n",
      "774/774 [==============================] - 3s 4ms/step - loss: 0.0000e+00 - accuracy: 0.0110\n",
      "Epoch 3/50\n",
      "774/774 [==============================] - 4s 5ms/step - loss: 0.0000e+00 - accuracy: 0.0110\n",
      "Epoch 4/50\n",
      "774/774 [==============================] - 4s 5ms/step - loss: 0.0000e+00 - accuracy: 0.0110\n",
      "Epoch 5/50\n",
      "774/774 [==============================] - 4s 6ms/step - loss: 0.0000e+00 - accuracy: 0.0110\n",
      "Epoch 6/50\n",
      "774/774 [==============================] - 5s 7ms/step - loss: 0.0000e+00 - accuracy: 0.0110\n",
      "Epoch 7/50\n",
      "774/774 [==============================] - 4s 5ms/step - loss: 0.0000e+00 - accuracy: 0.0110\n",
      "Epoch 8/50\n",
      "774/774 [==============================] - 4s 5ms/step - loss: 0.0000e+00 - accuracy: 0.0110\n",
      "Epoch 9/50\n",
      "774/774 [==============================] - 5s 6ms/step - loss: 0.0000e+00 - accuracy: 0.0110\n",
      "Epoch 10/50\n",
      "774/774 [==============================] - 5s 7ms/step - loss: 0.0000e+00 - accuracy: 0.0110\n",
      "Epoch 11/50\n",
      "774/774 [==============================] - 4s 6ms/step - loss: 0.0000e+00 - accuracy: 0.0110\n",
      "Epoch 12/50\n",
      "774/774 [==============================] - 4s 5ms/step - loss: 0.0000e+00 - accuracy: 0.0110\n",
      "Epoch 13/50\n",
      "774/774 [==============================] - 4s 5ms/step - loss: 0.0000e+00 - accuracy: 0.0110\n",
      "Epoch 14/50\n",
      "774/774 [==============================] - 4s 6ms/step - loss: 0.0000e+00 - accuracy: 0.0110\n",
      "Epoch 15/50\n",
      "774/774 [==============================] - 4s 5ms/step - loss: 0.0000e+00 - accuracy: 0.0110\n",
      "Epoch 16/50\n",
      "774/774 [==============================] - 4s 5ms/step - loss: 0.0000e+00 - accuracy: 0.0110\n",
      "Epoch 17/50\n",
      "774/774 [==============================] - 3s 4ms/step - loss: 0.0000e+00 - accuracy: 0.0110\n",
      "Epoch 18/50\n",
      "774/774 [==============================] - 4s 6ms/step - loss: 0.0000e+00 - accuracy: 0.0110\n",
      "Epoch 19/50\n",
      "774/774 [==============================] - 4s 5ms/step - loss: 0.0000e+00 - accuracy: 0.0110\n",
      "Epoch 20/50\n",
      "774/774 [==============================] - 4s 5ms/step - loss: 0.0000e+00 - accuracy: 0.0110\n",
      "Epoch 21/50\n",
      "774/774 [==============================] - 4s 5ms/step - loss: 0.0000e+00 - accuracy: 0.0110\n",
      "Epoch 22/50\n",
      "774/774 [==============================] - 4s 5ms/step - loss: 0.0000e+00 - accuracy: 0.0110\n",
      "Epoch 23/50\n",
      "774/774 [==============================] - 5s 6ms/step - loss: 0.0000e+00 - accuracy: 0.0110\n",
      "Epoch 24/50\n",
      "774/774 [==============================] - 4s 5ms/step - loss: 0.0000e+00 - accuracy: 0.0110\n",
      "Epoch 25/50\n",
      "774/774 [==============================] - 4s 5ms/step - loss: 0.0000e+00 - accuracy: 0.0110\n",
      "Epoch 26/50\n",
      "774/774 [==============================] - 4s 5ms/step - loss: 0.0000e+00 - accuracy: 0.0110\n",
      "Epoch 27/50\n",
      "774/774 [==============================] - 4s 5ms/step - loss: 0.0000e+00 - accuracy: 0.0110\n",
      "Epoch 28/50\n",
      "774/774 [==============================] - 4s 5ms/step - loss: 0.0000e+00 - accuracy: 0.0110\n",
      "Epoch 29/50\n",
      "774/774 [==============================] - 4s 5ms/step - loss: 0.0000e+00 - accuracy: 0.0110\n",
      "Epoch 30/50\n",
      "774/774 [==============================] - 4s 5ms/step - loss: 0.0000e+00 - accuracy: 0.0110\n",
      "Epoch 31/50\n",
      "774/774 [==============================] - 4s 5ms/step - loss: 0.0000e+00 - accuracy: 0.0110\n",
      "Epoch 32/50\n",
      "774/774 [==============================] - 4s 5ms/step - loss: 0.0000e+00 - accuracy: 0.0110\n",
      "Epoch 33/50\n",
      "774/774 [==============================] - 4s 5ms/step - loss: 0.0000e+00 - accuracy: 0.0110\n",
      "Epoch 34/50\n",
      "774/774 [==============================] - 4s 5ms/step - loss: 0.0000e+00 - accuracy: 0.0110\n",
      "Epoch 35/50\n",
      "774/774 [==============================] - 4s 5ms/step - loss: 0.0000e+00 - accuracy: 0.0110\n",
      "Epoch 36/50\n",
      "774/774 [==============================] - 4s 5ms/step - loss: 0.0000e+00 - accuracy: 0.0110\n",
      "Epoch 37/50\n",
      "774/774 [==============================] - 4s 5ms/step - loss: 0.0000e+00 - accuracy: 0.0110\n",
      "Epoch 38/50\n",
      "774/774 [==============================] - 4s 5ms/step - loss: 0.0000e+00 - accuracy: 0.0110\n",
      "Epoch 39/50\n",
      "774/774 [==============================] - 4s 5ms/step - loss: 0.0000e+00 - accuracy: 0.0110\n",
      "Epoch 40/50\n",
      "774/774 [==============================] - 4s 5ms/step - loss: 0.0000e+00 - accuracy: 0.0110\n",
      "Epoch 41/50\n",
      "774/774 [==============================] - 4s 5ms/step - loss: 0.0000e+00 - accuracy: 0.0110\n",
      "Epoch 42/50\n",
      "774/774 [==============================] - 4s 5ms/step - loss: 0.0000e+00 - accuracy: 0.0110\n",
      "Epoch 43/50\n",
      "774/774 [==============================] - 4s 5ms/step - loss: 0.0000e+00 - accuracy: 0.0110\n",
      "Epoch 44/50\n",
      "774/774 [==============================] - 4s 5ms/step - loss: 0.0000e+00 - accuracy: 0.0110\n",
      "Epoch 45/50\n",
      "774/774 [==============================] - 3s 5ms/step - loss: 0.0000e+00 - accuracy: 0.0110\n",
      "Epoch 46/50\n",
      "774/774 [==============================] - 4s 5ms/step - loss: 0.0000e+00 - accuracy: 0.0110\n",
      "Epoch 47/50\n",
      "774/774 [==============================] - 4s 5ms/step - loss: 0.0000e+00 - accuracy: 0.0110\n",
      "Epoch 48/50\n",
      "774/774 [==============================] - 3s 4ms/step - loss: 0.0000e+00 - accuracy: 0.0110\n",
      "Epoch 49/50\n",
      "774/774 [==============================] - 4s 5ms/step - loss: 0.0000e+00 - accuracy: 0.0110\n",
      "Epoch 50/50\n",
      "774/774 [==============================] - 4s 5ms/step - loss: 0.0000e+00 - accuracy: 0.0110\n",
      "194/194 [==============================] - 1s 3ms/step\n"
     ]
    }
   ],
   "source": [
    "from keras.models import Sequential\n",
    "from keras.layers import Dense\n",
    "from sklearn.model_selection import train_test_split\n",
    "from sklearn.metrics import accuracy_score\n",
    "import numpy as np\n",
    "from sklearn.preprocessing import LabelEncoder\n",
    "\n",
    "# 레이블 데이터를 숫자로 변환\n",
    "encoder = LabelEncoder()\n",
    "y_encoded = encoder.fit_transform(y)\n",
    "\n",
    "# 숫자로 변환된 레이블 데이터를 원-핫 인코딩\n",
    "num_classes = len(encoder.classes_)  # 클래스 수 계산\n",
    "y_encoded = tf.keras.utils.to_categorical(y, num_classes)\n",
    "\n",
    "# 데이터를 훈련 세트와 테스트 세트로 분할\n",
    "X_train, X_test, y_train, y_test = train_test_split(X, y, test_size=0.2, random_state=42)\n",
    "\n",
    "# 신경망 모델 생성\n",
    "model = Sequential()\n",
    "model.add(Dense(64, input_dim=len(X[0]), activation='relu'))  # 입력층 (64개의 뉴런)\n",
    "model.add(Dense(64, activation='relu'))  # 은닉층 (64개의 뉴런)\n",
    "model.add(Dense(1, activation='softmax'))  # 출력층 (레이블 수만큼의 뉴런)\n",
    "\n",
    "# 모델 컴파일\n",
    "model.compile(loss='categorical_crossentropy', optimizer='adam', metrics=['accuracy'])\n",
    "\n",
    "# 모델 학습\n",
    "model.fit(X_train, y_train, epochs=50, batch_size=32)\n",
    "\n",
    "# 테스트 세트에 대한 예측\n",
    "y_pred = model.predict(X_test)"
   ]
  },
  {
   "cell_type": "markdown",
   "id": "ef5963c6",
   "metadata": {},
   "source": [
    "### XGBoost"
   ]
  },
  {
   "cell_type": "code",
   "execution_count": 35,
   "id": "d3301595",
   "metadata": {},
   "outputs": [
    {
     "name": "stdout",
     "output_type": "stream",
     "text": [
      "Accuracy: 0.37%\n"
     ]
    }
   ],
   "source": [
    "from xgboost import XGBClassifier\n",
    "from sklearn.model_selection import train_test_split\n",
    "from sklearn.metrics import accuracy_score\n",
    "\n",
    "\n",
    "# 데이터를 훈련 세트와 테스트 세트로 분할\n",
    "X_train, X_test, y_train, y_test = train_test_split(X, y, test_size=0.2, random_state=42)\n",
    "\n",
    "# XGBoost 분류기 생성\n",
    "model = XGBClassifier(use_label_encoder=False)\n",
    "\n",
    "# 분류기 학습\n",
    "model.fit(X_train, y_train)\n",
    "\n",
    "# 테스트 세트에 대한 예측\n",
    "y_pred = model.predict(X_test)\n",
    "\n",
    "# 정확도 출력\n",
    "accuracy = accuracy_score(y_test, y_pred)\n",
    "print(\"Accuracy: %.2f%%\" % (accuracy))\n"
   ]
  },
  {
   "cell_type": "markdown",
   "id": "89a2a8ae",
   "metadata": {},
   "source": [
    "### KNN"
   ]
  },
  {
   "cell_type": "code",
   "execution_count": null,
   "id": "e65e6314",
   "metadata": {},
   "outputs": [],
   "source": [
    "from sklearn.neighbors import KNeighborsClassifier\n",
    "from sklearn.model_selection import train_test_split\n",
    "from sklearn.metrics import accuracy_score\n",
    "\n",
    "\n",
    "# 데이터를 훈련 세트와 테스트 세트로 분할\n",
    "X_train, X_test, y_train, y_test = train_test_split(X, y, test_size=0.2, random_state=42)\n",
    "\n",
    "# KNN 분류기 생성\n",
    "knn = KNeighborsClassifier(n_neighbors=100)\n",
    "\n",
    "# 분류기 학습\n",
    "knn.fit(X_train, y_train)\n",
    "\n",
    "# 테스트 세트에 대한 예측\n",
    "y_pred = knn.predict(X_test)\n",
    "\n",
    "# 정확도 출력\n",
    "accuracy = accuracy_score(y_test, y_pred)\n",
    "print(\"Accuracy: %.2f%%\" % (accuracy * 100.0))\n"
   ]
  }
 ],
 "metadata": {
  "kernelspec": {
   "display_name": "Python 3 (ipykernel)",
   "language": "python",
   "name": "python3"
  },
  "language_info": {
   "codemirror_mode": {
    "name": "ipython",
    "version": 3
   },
   "file_extension": ".py",
   "mimetype": "text/x-python",
   "name": "python",
   "nbconvert_exporter": "python",
   "pygments_lexer": "ipython3",
   "version": "3.10.9"
  }
 },
 "nbformat": 4,
 "nbformat_minor": 5
}
