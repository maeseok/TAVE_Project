{
 "cells": [
  {
   "cell_type": "markdown",
   "id": "0ef2fa9f",
   "metadata": {},
   "source": [
    "# 배우 학습 Test 1장"
   ]
  },
  {
   "cell_type": "code",
   "execution_count": 4,
   "id": "8c2b5499",
   "metadata": {},
   "outputs": [],
   "source": [
    "import face_recognition"
   ]
  },
  {
   "cell_type": "code",
   "execution_count": 5,
   "id": "eaf9d107",
   "metadata": {},
   "outputs": [],
   "source": [
    "photo_file =\"C:/Users/kmk00/여자배우/여자배우_수정본/이지은_수정본/google_0001.jpg\""
   ]
  },
  {
   "cell_type": "code",
   "execution_count": 6,
   "id": "4fca1d65",
   "metadata": {},
   "outputs": [],
   "source": [
    "# 이미지 로드\n",
    "image = face_recognition.load_image_file(photo_file)\n",
    "face_landmarks_list = []\n",
    "\n",
    "# 얼굴 검출\n",
    "face_locations = face_recognition.face_locations(image)\n",
    "\n",
    "if len(face_locations) > 0:  # 얼굴이 검출되었을 때만 처리\n",
    "    # 얼굴 및 이목구비 검출\n",
    "    face_landmarks = face_recognition.face_landmarks(image, face_locations=face_locations)\n",
    "\n",
    "    if len(face_landmarks) > 0:  # 랜드마크가 검출되었을 때만 처리\n",
    "        # 31번 랜드마크 좌표값 가져오기\n",
    "        move_x, move_y = face_landmarks[0]['nose_bridge'][3]\n",
    "\n",
    "        # 랜드마크 조정\n",
    "        adjusted_landmarks = {}\n",
    "        for feature, landmarks in face_landmarks[0].items():\n",
    "            adjusted_feature = [(x - move_x, y - move_y) for x, y in landmarks]\n",
    "            adjusted_landmarks[feature] = adjusted_feature\n",
    "\n",
    "# 조정된 랜드마크를 리스트에 추가\n",
    "face_landmarks_list.append(adjusted_landmarks)"
   ]
  },
  {
   "cell_type": "code",
   "execution_count": 52,
   "id": "aa5e8b71",
   "metadata": {},
   "outputs": [],
   "source": [
    "num = []\n",
    "test_X, test_y = [], []\n",
    "for key, landmark in face_landmarks_list[0].items() :\n",
    "    for tup in landmark:\n",
    "        num.extend(tup)\n",
    "test_X.append(num)"
   ]
  },
  {
   "cell_type": "code",
   "execution_count": 58,
   "id": "98c6b3f4",
   "metadata": {},
   "outputs": [],
   "source": [
    "y_test_pred = clf.predict(test_X)"
   ]
  },
  {
   "cell_type": "code",
   "execution_count": 101,
   "id": "faf8f680",
   "metadata": {
    "scrolled": true
   },
   "outputs": [
    {
     "name": "stdout",
     "output_type": "stream",
     "text": [
      "['임윤아_수정본']\n",
      "['이지은_수정본']\n",
      "['최수영_수정본']\n"
     ]
    }
   ],
   "source": [
    "# 각 클래스에 대한 확신 정도를 출력하고, 가장 확신이 높은 상위 3개의 클래스를 도출\n",
    "confidence_scores = clf.decision_function(test_X)\n",
    "top_3_classes = np.argsort(confidence_scores, axis=1)[0][-3:]\n",
    "for i in top_3_classes :\n",
    "    print(encoder.inverse_transform([i]))"
   ]
  },
  {
   "cell_type": "markdown",
   "id": "60ffdbdf",
   "metadata": {},
   "source": [
    "# 웹툰 캐릭터 대입"
   ]
  },
  {
   "cell_type": "code",
   "execution_count": 104,
   "id": "b49e87fe",
   "metadata": {},
   "outputs": [],
   "source": [
    "# 텍스트 파일 열기\n",
    "with open(\"C:/Users/kmk00/Downloads/webtoon_final.txt\", 'r', encoding='cp949') as file:\n",
    "    # 파일의 내용을 읽어서 문자열로 가져옴\n",
    "    data_string = file.read().strip()\n",
    "\n",
    "# 문자열을 리스트로 변환\n",
    "webtoon_data_list = ast.literal_eval(data_string)"
   ]
  },
  {
   "cell_type": "code",
   "execution_count": 129,
   "id": "0158e768",
   "metadata": {},
   "outputs": [],
   "source": [
    "num = []\n",
    "web_X, web_y = [], []\n",
    "for key, landmark in webtoon_data_list[0][1].items() :\n",
    "    for tup in landmark:\n",
    "        num.extend(tup)\n",
    "web_X.append(num)"
   ]
  },
  {
   "cell_type": "code",
   "execution_count": 138,
   "id": "264a2190",
   "metadata": {},
   "outputs": [],
   "source": [
    "y_web_pred = clf.predict(web_X)"
   ]
  },
  {
   "cell_type": "code",
   "execution_count": 140,
   "id": "9e620fe0",
   "metadata": {},
   "outputs": [
    {
     "name": "stdout",
     "output_type": "stream",
     "text": [
      "['임수정_수정본']\n",
      "['한소희_수정본']\n",
      "['최수영_수정본']\n"
     ]
    }
   ],
   "source": [
    "# 각 클래스에 대한 확신 정도를 출력하고, 가장 확신이 높은 상위 3개의 클래스를 도출합니다.\n",
    "confidence_scores = clf.decision_function(web_X)\n",
    "top_3_classes = np.argsort(confidence_scores, axis=1)[0][-3:]\n",
    "for i in top_3_classes :\n",
    "    print(encoder.inverse_transform([i]))"
   ]
  }
 ],
 "metadata": {
  "kernelspec": {
   "display_name": "Python 3 (ipykernel)",
   "language": "python",
   "name": "python3"
  },
  "language_info": {
   "codemirror_mode": {
    "name": "ipython",
    "version": 3
   },
   "file_extension": ".py",
   "mimetype": "text/x-python",
   "name": "python",
   "nbconvert_exporter": "python",
   "pygments_lexer": "ipython3",
   "version": "3.10.9"
  }
 },
 "nbformat": 4,
 "nbformat_minor": 5
}
