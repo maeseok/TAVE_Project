{
 "cells": [
  {
   "cell_type": "markdown",
   "id": "28f4e5b6",
   "metadata": {},
   "source": [
    "## 공용 성격(조금 더 추가해도 될듯)"
   ]
  },
  {
   "cell_type": "code",
   "execution_count": null,
   "id": "531f9d7c",
   "metadata": {},
   "outputs": [],
   "source": [
    "character_keywords = [\n",
    "    \"섬세\", \"열정적인\", \"카리스마\", \"쿨한\", \"순발력\", \n",
    "    \"예리한\", \"다재다능한\", \"예쁜\", \"잘생긴\", \"명랑한\", \n",
    "    \"도도\", \"강렬한\", \"부드러운\", \"도시적\", \"포근한\", \n",
    "    \"섹시\", \"우아\", \"지적\", \"화려한\", \"편안한\", \n",
    "    \"성숙한\", \"청순한\", \"야생적인\", \"천진난만한\", \"자유로운\",\n",
    "    \"귀여운\", \"신비로운\", \"아름다운\", \"단순한\", \"긍정적인\",\n",
    "    \"부정적인\", \"날카로운\", \"따뜻한\", \"고요한\", \"시크한\",\n",
    "    \"친근\", \"차분\", \"활기\", \"신중\", \"화려\", \n",
    "    \"카리스마\", \"사려\", \"열정\", \"강력\", \"온화\", \n",
    "    \"세련\", \"흥분\", \"신비\", \"자신감\", \"진취적\", \n",
    "    \"부드러운\", \"냉담\", \"낙천\", \"독특\", \"우아\", \n",
    "    \"열심히\", \"유머\", \"자유로운\", \"신뢰\", \"꾸준한\", \n",
    "    \"고요한\", \"현실적\", \"관대\", \"열렬\", \"미묘\", \n",
    "    \"차가운\", \"담백\", \"쿨\", \"센스\", \n",
    "    \"평화\", \"도전적\", \"고상한\", \"자발적\", \"미소\", \n",
    "    \"감성적\", \"단호\", \"젠틀\", \"도덕적\", \"희망찬\", \n",
    "    \"확고\", \"유익\", \"소심\", \"근엄\", \"관능적\",\n",
    "    \"둥근\", \"각진\", \"타원\", \"귀여운\", \n",
    "    \"미소\", \"고요한\", \"강렬한\", \"사랑스러운\", \"강건\", \n",
    "    \"부드러운\", \"높은\", \"코\", \"입술\", \"턱선\", \n",
    "    \"표정\", \"차분\", \"인상\", \"부드러운\", \"시크\", \n",
    "    \"매력적인\", \"활기찬\", \"유머\", \"사려\", \"카리스마\", \n",
    "    \"성품\", \"마인드\", \"자유로운\", \"상남자\", \"상여자\",\n",
    "    \"눈이 큰\", \"선한\", \"악한\"\n",
    "]"
   ]
  },
  {
   "cell_type": "markdown",
   "id": "d30d7c7c",
   "metadata": {},
   "source": [
    "## 나무위키 크롤링 및 문장 저장"
   ]
  },
  {
   "cell_type": "code",
   "execution_count": null,
   "id": "4ff0239e",
   "metadata": {},
   "outputs": [],
   "source": [
    "import requests\n",
    "from bs4 import BeautifulSoup\n",
    "\n",
    "url = '나무위키 url'  # 대상 URL로 변경\n",
    "response = requests.get(url)\n",
    "soup = BeautifulSoup(response.text, 'html.parser')\n",
    "\n",
    "# id가 \"xeZKSV0Ou\"이고 class가 \"app senkawa-fixed-size senkawa-fixed-1300\"인 div 추출\n",
    "target_div = soup.find('div', id='xeZKSV0Ou', class_='app senkawa-fixed-size senkawa-fixed-1300')\n",
    "\n",
    "sentence_list=[]\n",
    "\n",
    "# 해당 div가 있는지 확인\n",
    "if target_div:\n",
    "    # class가 \"44c91dc0\"인 하위 div 찾기\n",
    "    sub_div = target_div.find('div', class_='44c91dc0')\n",
    "\n",
    "    # 해당 div가 있는지 확인\n",
    "    if sub_div:\n",
    "        # class가 \"784340bf\"인 하위 div 찾기\n",
    "        final_divs = sub_div.find_all('div', class_='784340bf')\n",
    "\n",
    "        # 해당 class를 가진 div들이 있는지 확인\n",
    "        if final_divs:\n",
    "            # class가 \"_1+UTAYHc\"인 하위 div 찾기\n",
    "            utayhc_divs = [final_div.find('div', class_='_1+UTAYHc') for final_div in final_divs]\n",
    "\n",
    "            # 해당 class를 가진 div들이 있는지 확인\n",
    "            utayhc_divs = [div for div in utayhc_divs if div is not None]\n",
    "\n",
    "            if utayhc_divs:\n",
    "                # 추출한 데이터 출력 또는 활용\n",
    "                for idx, utayhc_div in enumerate(utayhc_divs):\n",
    "                    print(f\"_1+UTAYHc Div {idx + 1}: {utayhc_div.text}\")\n",
    "                    \n",
    "            else:\n",
    "                print(\"해당 class를 가진 _1+UTAYHc div가 없습니다.\")\n",
    "        else:\n",
    "            print(\"해당 class를 가진 final div가 없습니다.\")\n",
    "    else:\n",
    "        print(\"해당 class를 가진 div가 없습니다.\")\n",
    "else:\n",
    "    print(\"해당 id와 class를 가진 div가 없습니다.\")"
   ]
  },
  {
   "cell_type": "markdown",
   "id": "2342fb8d",
   "metadata": {},
   "source": [
    "## character_keywords에 들어 있는 문장 뽑기"
   ]
  },
  {
   "cell_type": "code",
   "execution_count": null,
   "id": "2d7b75ab",
   "metadata": {},
   "outputs": [],
   "source": [
    "# 추출된 모든 문장을 저장할 리스트 초기화\n",
    "all_matching_sentences = []\n",
    "\n",
    "# 크롤링한 문장들 중에서 character_keywords에 있는 단어들이 포함된 문장 찾기\n",
    "for sentence in crawled_sentences:\n",
    "\n",
    "    # character_keywords에 있는 단어들 확인\n",
    "    for character_keyword in character_keywords:\n",
    "        if character_keyword in sentence:\n",
    "            all_matching_sentences.append(sentence)\n",
    "            break  # 이미 한 번 추가했으면 더 이상 확인할 필요가 없으므로 break\n",
    "\n",
    "# 중복된 문장 제거\n",
    "all_matching_sentences = list(set(all_matching_sentences))\n",
    "\n",
    "# 결과 출력 또는 활용\n",
    "for idx, matching_sentence in enumerate(all_matching_sentences):\n",
    "    print(f\"All Matching Sentence {idx + 1}: {matching_sentence}\")"
   ]
  },
  {
   "cell_type": "markdown",
   "id": "46412c22",
   "metadata": {},
   "source": [
    "## 그 중 캐릭터 이름이 들어간 문장만 추출"
   ]
  },
  {
   "cell_type": "code",
   "execution_count": null,
   "id": "a7a3231b",
   "metadata": {},
   "outputs": [],
   "source": [
    "# 캐릭터 이름에 해당하는 키워드\n",
    "character_name_keyword = '캐릭터 이름'\n",
    "\n",
    "# 캐릭터 이름이 들어있는 문장을 저장할 리스트 초기화\n",
    "character_name_sentences = []\n",
    "\n",
    "# all_matching_sentences에 들어있는 문장 중에서 캐릭터 이름이 들어있는 문장 찾기\n",
    "for sentence in all_matching_sentences:\n",
    "    if character_name_keyword in sentence:\n",
    "        character_name_sentences.append(sentence)\n",
    "\n",
    "# 결과 출력 또는 활용\n",
    "for idx, character_name_sentence in enumerate(character_name_sentences):\n",
    "    print(f\"Character Name Sentence {idx + 1}: {character_name_sentence}\")\n"
   ]
  },
  {
   "cell_type": "markdown",
   "id": "0f3994a4",
   "metadata": {},
   "source": [
    "## 성격이 얼마나 들어갔는지 확인"
   ]
  },
  {
   "cell_type": "code",
   "execution_count": null,
   "id": "ae6ba911",
   "metadata": {},
   "outputs": [],
   "source": [
    "# 캐릭터의 성격 및 특징 카운트 초기화\n",
    "character_traits_count = {keyword: 0 for keyword in character_keywords}\n",
    "\n",
    "# 이름이 들어있는 문장 중에서 각각의 성격 및 특징 키워드의 출현 횟수 계산\n",
    "for sentence in character_name_sentences:\n",
    "    for keyword in character_keywords:\n",
    "        if keyword in sentence:\n",
    "            character_traits_count[keyword] += 1\n",
    "\n",
    "# 0번 출현한 키워드 제외\n",
    "character_traits_count = {keyword: count for keyword, count in character_traits_count.items() if count > 0}\n",
    "\n",
    "# 결과 출력 또는 활용\n",
    "print(\"캐릭터 ' '의 성격 및 특징:\")\n",
    "for keyword, count in character_traits_count.items():\n",
    "    print(f\"{keyword}: {count}번 출현\")"
   ]
  }
 ],
 "metadata": {
  "kernelspec": {
   "display_name": "Python 3 (ipykernel)",
   "language": "python",
   "name": "python3"
  },
  "language_info": {
   "codemirror_mode": {
    "name": "ipython",
    "version": 3
   },
   "file_extension": ".py",
   "mimetype": "text/x-python",
   "name": "python",
   "nbconvert_exporter": "python",
   "pygments_lexer": "ipython3",
   "version": "3.9.13"
  }
 },
 "nbformat": 4,
 "nbformat_minor": 5
}
